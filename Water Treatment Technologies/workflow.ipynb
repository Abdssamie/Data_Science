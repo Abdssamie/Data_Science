{
 "cells": [
  {
   "metadata": {},
   "cell_type": "markdown",
   "source": "### Scraped Data Cleaning",
   "id": "3d4330dc967dbf54"
  },
  {
   "cell_type": "code",
   "id": "initial_id",
   "metadata": {
    "collapsed": true,
    "ExecuteTime": {
     "end_time": "2025-01-15T11:39:55.274175Z",
     "start_time": "2025-01-15T11:39:55.249931Z"
    }
   },
   "source": [
    "import pandas as pd\n",
    "import matplotlib.pyplot as plt\n",
    "import seaborn as sns\n",
    "\n",
    "df = pd.read_csv(\"out.csv\")"
   ],
   "outputs": [],
   "execution_count": 1
  },
  {
   "metadata": {
    "ExecuteTime": {
     "end_time": "2025-01-15T11:40:28.145544Z",
     "start_time": "2025-01-15T11:40:28.126076Z"
    }
   },
   "cell_type": "code",
   "source": "df.head()",
   "id": "dea374b18d285615",
   "outputs": [
    {
     "data": {
      "text/plain": [
       "                       0      1    2                       3       4    5  \\\n",
       "0                    NaN    NaN  NaN                     NaN     NaN  NaN   \n",
       "1  Agricultural services  Pilot  WET                    BOD5   694.4  ---   \n",
       "2  Agricultural services  Pilot  WET  Chemical oxygen demand  1297.5  ---   \n",
       "3  Agricultural services  Pilot  WET         Nitrogen, total   221.9  ---   \n",
       "4  Agricultural services  Pilot  WET              Phosphorus    32.8  ---   \n",
       "\n",
       "     6      7                                8  \n",
       "0  NaN    NaN                              NaN  \n",
       "1  ---  84.00  University College Dublin, 2011  \n",
       "2  ---  84.00  University College Dublin, 2011  \n",
       "3  ---  78.00  University College Dublin, 2011  \n",
       "4  ---  97.00  University College Dublin, 2011  "
      ],
      "text/html": [
       "<div>\n",
       "<style scoped>\n",
       "    .dataframe tbody tr th:only-of-type {\n",
       "        vertical-align: middle;\n",
       "    }\n",
       "\n",
       "    .dataframe tbody tr th {\n",
       "        vertical-align: top;\n",
       "    }\n",
       "\n",
       "    .dataframe thead th {\n",
       "        text-align: right;\n",
       "    }\n",
       "</style>\n",
       "<table border=\"1\" class=\"dataframe\">\n",
       "  <thead>\n",
       "    <tr style=\"text-align: right;\">\n",
       "      <th></th>\n",
       "      <th>0</th>\n",
       "      <th>1</th>\n",
       "      <th>2</th>\n",
       "      <th>3</th>\n",
       "      <th>4</th>\n",
       "      <th>5</th>\n",
       "      <th>6</th>\n",
       "      <th>7</th>\n",
       "      <th>8</th>\n",
       "    </tr>\n",
       "  </thead>\n",
       "  <tbody>\n",
       "    <tr>\n",
       "      <th>0</th>\n",
       "      <td>NaN</td>\n",
       "      <td>NaN</td>\n",
       "      <td>NaN</td>\n",
       "      <td>NaN</td>\n",
       "      <td>NaN</td>\n",
       "      <td>NaN</td>\n",
       "      <td>NaN</td>\n",
       "      <td>NaN</td>\n",
       "      <td>NaN</td>\n",
       "    </tr>\n",
       "    <tr>\n",
       "      <th>1</th>\n",
       "      <td>Agricultural services</td>\n",
       "      <td>Pilot</td>\n",
       "      <td>WET</td>\n",
       "      <td>BOD5</td>\n",
       "      <td>694.4</td>\n",
       "      <td>---</td>\n",
       "      <td>---</td>\n",
       "      <td>84.00</td>\n",
       "      <td>University College Dublin, 2011</td>\n",
       "    </tr>\n",
       "    <tr>\n",
       "      <th>2</th>\n",
       "      <td>Agricultural services</td>\n",
       "      <td>Pilot</td>\n",
       "      <td>WET</td>\n",
       "      <td>Chemical oxygen demand</td>\n",
       "      <td>1297.5</td>\n",
       "      <td>---</td>\n",
       "      <td>---</td>\n",
       "      <td>84.00</td>\n",
       "      <td>University College Dublin, 2011</td>\n",
       "    </tr>\n",
       "    <tr>\n",
       "      <th>3</th>\n",
       "      <td>Agricultural services</td>\n",
       "      <td>Pilot</td>\n",
       "      <td>WET</td>\n",
       "      <td>Nitrogen, total</td>\n",
       "      <td>221.9</td>\n",
       "      <td>---</td>\n",
       "      <td>---</td>\n",
       "      <td>78.00</td>\n",
       "      <td>University College Dublin, 2011</td>\n",
       "    </tr>\n",
       "    <tr>\n",
       "      <th>4</th>\n",
       "      <td>Agricultural services</td>\n",
       "      <td>Pilot</td>\n",
       "      <td>WET</td>\n",
       "      <td>Phosphorus</td>\n",
       "      <td>32.8</td>\n",
       "      <td>---</td>\n",
       "      <td>---</td>\n",
       "      <td>97.00</td>\n",
       "      <td>University College Dublin, 2011</td>\n",
       "    </tr>\n",
       "  </tbody>\n",
       "</table>\n",
       "</div>"
      ]
     },
     "execution_count": 2,
     "metadata": {},
     "output_type": "execute_result"
    }
   ],
   "execution_count": 2
  },
  {
   "metadata": {},
   "cell_type": "markdown",
   "source": [
    "*Each time selenium copies a new table, for some reason it has to put a row with all cells empty (NaN).*\n",
    "*So We had to drop these rows using this command*"
   ],
   "id": "f5407a969b869d8c"
  },
  {
   "metadata": {
    "ExecuteTime": {
     "end_time": "2025-01-15T11:40:44.621965Z",
     "start_time": "2025-01-15T11:40:44.608397Z"
    }
   },
   "cell_type": "code",
   "source": "df.dropna(how='all', inplace=True)",
   "id": "c0ab4a38170e0162",
   "outputs": [],
   "execution_count": 3
  },
  {
   "metadata": {
    "ExecuteTime": {
     "end_time": "2025-01-15T11:41:19.856924Z",
     "start_time": "2025-01-15T11:41:19.846415Z"
    }
   },
   "cell_type": "code",
   "source": "df.isna().sum()",
   "id": "347ea94dd397f72a",
   "outputs": [
    {
     "data": {
      "text/plain": [
       "0    0\n",
       "1    0\n",
       "2    0\n",
       "3    0\n",
       "4    0\n",
       "5    0\n",
       "6    0\n",
       "7    0\n",
       "8    0\n",
       "dtype: int64"
      ]
     },
     "execution_count": 6,
     "metadata": {},
     "output_type": "execute_result"
    }
   ],
   "execution_count": 6
  },
  {
   "metadata": {
    "ExecuteTime": {
     "end_time": "2025-01-15T11:48:47.847873Z",
     "start_time": "2025-01-15T11:48:47.825103Z"
    }
   },
   "cell_type": "code",
   "source": "df.info()",
   "id": "69234b02f36c31f0",
   "outputs": [
    {
     "name": "stdout",
     "output_type": "stream",
     "text": [
      "<class 'pandas.core.frame.DataFrame'>\n",
      "Index: 1707 entries, 1 to 1741\n",
      "Data columns (total 9 columns):\n",
      " #   Column  Non-Null Count  Dtype \n",
      "---  ------  --------------  ----- \n",
      " 0   0       1707 non-null   object\n",
      " 1   1       1707 non-null   object\n",
      " 2   2       1707 non-null   object\n",
      " 3   3       1707 non-null   object\n",
      " 4   4       1707 non-null   object\n",
      " 5   5       1707 non-null   object\n",
      " 6   6       1707 non-null   object\n",
      " 7   7       1707 non-null   object\n",
      " 8   8       1707 non-null   object\n",
      "dtypes: object(9)\n",
      "memory usage: 133.4+ KB\n"
     ]
    }
   ],
   "execution_count": 7
  },
  {
   "metadata": {
    "ExecuteTime": {
     "end_time": "2025-01-15T11:55:13.958308Z",
     "start_time": "2025-01-15T11:55:13.952056Z"
    }
   },
   "cell_type": "code",
   "source": [
    "columns = [\"Industry\", \"Scale\", \"Treatment Train\", \"Parameter\", \"Influent\", \"Effluent\", \"Units\", \"%Removal\", \"Article\"]\n",
    "df.columns = columns"
   ],
   "id": "a1dafaec4f5fac21",
   "outputs": [],
   "execution_count": 8
  },
  {
   "metadata": {
    "ExecuteTime": {
     "end_time": "2025-01-15T11:55:20.388471Z",
     "start_time": "2025-01-15T11:55:20.373374Z"
    }
   },
   "cell_type": "code",
   "source": "df.info()",
   "id": "6010b4827450a91c",
   "outputs": [
    {
     "name": "stdout",
     "output_type": "stream",
     "text": [
      "<class 'pandas.core.frame.DataFrame'>\n",
      "Index: 1707 entries, 1 to 1741\n",
      "Data columns (total 9 columns):\n",
      " #   Column           Non-Null Count  Dtype \n",
      "---  ------           --------------  ----- \n",
      " 0   Industry         1707 non-null   object\n",
      " 1   Scale            1707 non-null   object\n",
      " 2   Treatment Train  1707 non-null   object\n",
      " 3   Parameter        1707 non-null   object\n",
      " 4   Influent         1707 non-null   object\n",
      " 5   Effluent         1707 non-null   object\n",
      " 6   Units            1707 non-null   object\n",
      " 7   %Removal         1707 non-null   object\n",
      " 8   Article          1707 non-null   object\n",
      "dtypes: object(9)\n",
      "memory usage: 133.4+ KB\n"
     ]
    }
   ],
   "execution_count": 9
  },
  {
   "metadata": {
    "ExecuteTime": {
     "end_time": "2025-01-15T11:57:53.139089Z",
     "start_time": "2025-01-15T11:57:53.129268Z"
    }
   },
   "cell_type": "code",
   "source": "df.dtypes",
   "id": "c129ab33588caec6",
   "outputs": [
    {
     "data": {
      "text/plain": [
       "Industry           object\n",
       "Scale              object\n",
       "Treatment Train    object\n",
       "Parameter          object\n",
       "Influent           object\n",
       "Effluent           object\n",
       "Units              object\n",
       "%Removal           object\n",
       "Article            object\n",
       "dtype: object"
      ]
     },
     "execution_count": 15,
     "metadata": {},
     "output_type": "execute_result"
    }
   ],
   "execution_count": 15
  },
  {
   "metadata": {
    "ExecuteTime": {
     "end_time": "2025-01-15T12:42:14.296683Z",
     "start_time": "2025-01-15T12:42:14.289682Z"
    }
   },
   "cell_type": "code",
   "source": "import re",
   "id": "cb1569eed9771eba",
   "outputs": [],
   "execution_count": 46
  },
  {
   "metadata": {
    "ExecuteTime": {
     "end_time": "2025-01-15T12:50:36.814200Z",
     "start_time": "2025-01-15T12:50:36.805117Z"
    }
   },
   "cell_type": "code",
   "source": [
    "value = \"< 466\"\n",
    "print(re.match(r'<\\s*(\\d+(\\.\\d+)?)', value.strip()).group(1))"
   ],
   "id": "9c1767911e9f65a8",
   "outputs": [
    {
     "name": "stdout",
     "output_type": "stream",
     "text": [
      "466\n"
     ]
    }
   ],
   "execution_count": 53
  },
  {
   "metadata": {
    "ExecuteTime": {
     "end_time": "2025-01-15T12:56:58.371020Z",
     "start_time": "2025-01-15T12:56:58.349454Z"
    }
   },
   "cell_type": "code",
   "source": [
    "def extract_number(value):\n",
    "    # Search for a number at the end of the string (allows for text before it)\n",
    "    match = re.search(r'(\\d+(\\.\\d+)?)\\s*$', str(value))  # Match numbers at the end\n",
    "    if match:\n",
    "        return float(match.group(1))  # Return the number as a float\n",
    "    return value  # If no number found, return the original value\n",
    "    \n",
    "\n",
    "# Find rows with non-numerical values\n",
    "new_df = df[[\"Influent\", \"Effluent\", \"%Removal\"]].map(extract_number)\n",
    "\n",
    "new_df"
   ],
   "id": "572f0fdbdbdff3a0",
   "outputs": [
    {
     "data": {
      "text/plain": [
       "     Influent Effluent %Removal\n",
       "1       694.4      ---     84.0\n",
       "2      1297.5      ---     84.0\n",
       "3       221.9      ---     78.0\n",
       "4        32.8      ---     97.0\n",
       "5        33.3      ---     94.0\n",
       "...       ...      ...      ...\n",
       "1737   7772.0      ---      ---\n",
       "1738     70.7      ---      ---\n",
       "1739      ---      ---      ---\n",
       "1740    415.0      ---      ---\n",
       "1741      0.9      ---      ---\n",
       "\n",
       "[1707 rows x 3 columns]"
      ],
      "text/html": [
       "<div>\n",
       "<style scoped>\n",
       "    .dataframe tbody tr th:only-of-type {\n",
       "        vertical-align: middle;\n",
       "    }\n",
       "\n",
       "    .dataframe tbody tr th {\n",
       "        vertical-align: top;\n",
       "    }\n",
       "\n",
       "    .dataframe thead th {\n",
       "        text-align: right;\n",
       "    }\n",
       "</style>\n",
       "<table border=\"1\" class=\"dataframe\">\n",
       "  <thead>\n",
       "    <tr style=\"text-align: right;\">\n",
       "      <th></th>\n",
       "      <th>Influent</th>\n",
       "      <th>Effluent</th>\n",
       "      <th>%Removal</th>\n",
       "    </tr>\n",
       "  </thead>\n",
       "  <tbody>\n",
       "    <tr>\n",
       "      <th>1</th>\n",
       "      <td>694.4</td>\n",
       "      <td>---</td>\n",
       "      <td>84.0</td>\n",
       "    </tr>\n",
       "    <tr>\n",
       "      <th>2</th>\n",
       "      <td>1297.5</td>\n",
       "      <td>---</td>\n",
       "      <td>84.0</td>\n",
       "    </tr>\n",
       "    <tr>\n",
       "      <th>3</th>\n",
       "      <td>221.9</td>\n",
       "      <td>---</td>\n",
       "      <td>78.0</td>\n",
       "    </tr>\n",
       "    <tr>\n",
       "      <th>4</th>\n",
       "      <td>32.8</td>\n",
       "      <td>---</td>\n",
       "      <td>97.0</td>\n",
       "    </tr>\n",
       "    <tr>\n",
       "      <th>5</th>\n",
       "      <td>33.3</td>\n",
       "      <td>---</td>\n",
       "      <td>94.0</td>\n",
       "    </tr>\n",
       "    <tr>\n",
       "      <th>...</th>\n",
       "      <td>...</td>\n",
       "      <td>...</td>\n",
       "      <td>...</td>\n",
       "    </tr>\n",
       "    <tr>\n",
       "      <th>1737</th>\n",
       "      <td>7772.0</td>\n",
       "      <td>---</td>\n",
       "      <td>---</td>\n",
       "    </tr>\n",
       "    <tr>\n",
       "      <th>1738</th>\n",
       "      <td>70.7</td>\n",
       "      <td>---</td>\n",
       "      <td>---</td>\n",
       "    </tr>\n",
       "    <tr>\n",
       "      <th>1739</th>\n",
       "      <td>---</td>\n",
       "      <td>---</td>\n",
       "      <td>---</td>\n",
       "    </tr>\n",
       "    <tr>\n",
       "      <th>1740</th>\n",
       "      <td>415.0</td>\n",
       "      <td>---</td>\n",
       "      <td>---</td>\n",
       "    </tr>\n",
       "    <tr>\n",
       "      <th>1741</th>\n",
       "      <td>0.9</td>\n",
       "      <td>---</td>\n",
       "      <td>---</td>\n",
       "    </tr>\n",
       "  </tbody>\n",
       "</table>\n",
       "<p>1707 rows × 3 columns</p>\n",
       "</div>"
      ]
     },
     "execution_count": 57,
     "metadata": {},
     "output_type": "execute_result"
    }
   ],
   "execution_count": 57
  },
  {
   "metadata": {
    "ExecuteTime": {
     "end_time": "2025-01-15T13:03:26.330121Z",
     "start_time": "2025-01-15T13:03:26.320954Z"
    }
   },
   "cell_type": "code",
   "source": "df[[\"Influent\", \"Effluent\", \"%Removal\"]] = new_df",
   "id": "459b7622e9a52b49",
   "outputs": [],
   "execution_count": 62
  },
  {
   "metadata": {},
   "cell_type": "code",
   "outputs": [],
   "execution_count": null,
   "source": "import numpy as np",
   "id": "7de2202a37964be9"
  },
  {
   "metadata": {
    "ExecuteTime": {
     "end_time": "2025-01-15T13:06:50.806811Z",
     "start_time": "2025-01-15T13:06:50.791172Z"
    }
   },
   "cell_type": "code",
   "source": [
    "# Assuming df is your DataFrame\n",
    "df[\"Influent\"] = pd.to_numeric(df[\"Influent\"], errors='coerce').fillna(np.nan)\n",
    "df[\"Effluent\"] = pd.to_numeric(df[\"Effluent\"], errors='coerce').fillna(np.nan)\n",
    "df[\"%Removal\"] = pd.to_numeric(df[\"%Removal\"], errors='coerce').fillna(np.nan)"
   ],
   "id": "2c9bc8e060ed3598",
   "outputs": [],
   "execution_count": 66
  },
  {
   "metadata": {
    "ExecuteTime": {
     "end_time": "2025-01-15T13:07:16.211131Z",
     "start_time": "2025-01-15T13:07:16.197438Z"
    }
   },
   "cell_type": "code",
   "source": "df.info()",
   "id": "6861335794185d94",
   "outputs": [
    {
     "name": "stdout",
     "output_type": "stream",
     "text": [
      "<class 'pandas.core.frame.DataFrame'>\n",
      "Index: 1707 entries, 1 to 1741\n",
      "Data columns (total 9 columns):\n",
      " #   Column           Non-Null Count  Dtype  \n",
      "---  ------           --------------  -----  \n",
      " 0   Industry         1707 non-null   object \n",
      " 1   Scale            1707 non-null   object \n",
      " 2   Treatment Train  1707 non-null   object \n",
      " 3   Parameter        1707 non-null   object \n",
      " 4   Influent         1472 non-null   float64\n",
      " 5   Effluent         1448 non-null   float64\n",
      " 6   Units            1707 non-null   object \n",
      " 7   %Removal         1063 non-null   float64\n",
      " 8   Article          1707 non-null   object \n",
      "dtypes: float64(3), object(6)\n",
      "memory usage: 133.4+ KB\n"
     ]
    }
   ],
   "execution_count": 69
  },
  {
   "metadata": {},
   "cell_type": "code",
   "outputs": [],
   "execution_count": null,
   "source": "",
   "id": "89f08730b86e3293"
  }
 ],
 "metadata": {
  "kernelspec": {
   "display_name": "Python 3",
   "language": "python",
   "name": "python3"
  },
  "language_info": {
   "codemirror_mode": {
    "name": "ipython",
    "version": 2
   },
   "file_extension": ".py",
   "mimetype": "text/x-python",
   "name": "python",
   "nbconvert_exporter": "python",
   "pygments_lexer": "ipython2",
   "version": "2.7.6"
  }
 },
 "nbformat": 4,
 "nbformat_minor": 5
}
